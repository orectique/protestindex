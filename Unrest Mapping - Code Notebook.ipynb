{
 "cells": [
  {
   "cell_type": "code",
   "execution_count": 1,
   "id": "8f71a938",
   "metadata": {},
   "outputs": [],
   "source": [
    "import pandas as pd\n",
    "import matplotlib.pyplot as plt\n",
    "import numpy as np\n",
    "import datetime as dt\n",
    "from collections import Counter\n",
    "import math "
   ]
  },
  {
   "cell_type": "code",
   "execution_count": 2,
   "id": "d6a408a1",
   "metadata": {},
   "outputs": [],
   "source": [
    "#loading the necessary dataset\n",
    "df_Address = #Address of ACLED dataset\n",
    "conflict_df = pd.read_csv(df_Address)\n",
    "#Adding new column with date format changed from 'String' to 'Datetime'\n",
    "event_date_dt = []\n",
    "for i in conflict_df.event_date:\n",
    "    event_date_dt.append(dt.datetime.strptime(i, '%d %B %Y'))\n",
    "conflict_df['event_date_dt'] = event_date_dt"
   ]
  },
  {
   "cell_type": "code",
   "execution_count": 4,
   "id": "7d6d3210",
   "metadata": {},
   "outputs": [],
   "source": [
    "from sklearn.preprocessing import LabelEncoder"
   ]
  },
  {
   "cell_type": "code",
   "execution_count": 5,
   "id": "6c73e697",
   "metadata": {},
   "outputs": [
    {
     "name": "stdout",
     "output_type": "stream",
     "text": [
      "{'Abduction/forced disappearance': 0, 'Agreement': 1, 'Air/drone strike': 2, 'Armed clash': 3, 'Arrests': 4, 'Attack': 5, 'Change to group/activity': 6, 'Chemical weapon': 7, 'Disrupted weapons use': 8, 'Excessive force against protesters': 9, 'Government regains territory': 10, 'Grenade': 11, 'Headquarters or base established': 12, 'Looting/property destruction': 13, 'Mob violence': 14, 'Non-state actor overtakes territory': 15, 'Non-violent transfer of territory': 16, 'Other': 17, 'Peaceful protest': 18, 'Protest with intervention': 19, 'Remote explosive/landmine/IED': 20, 'Sexual violence': 21, 'Shelling/artillery/missile attack': 22, 'Suicide bomb': 23, 'Violent demonstration': 24}\n"
     ]
    },
    {
     "data": {
      "text/html": [
       "<div>\n",
       "<style scoped>\n",
       "    .dataframe tbody tr th:only-of-type {\n",
       "        vertical-align: middle;\n",
       "    }\n",
       "\n",
       "    .dataframe tbody tr th {\n",
       "        vertical-align: top;\n",
       "    }\n",
       "\n",
       "    .dataframe thead th {\n",
       "        text-align: right;\n",
       "    }\n",
       "</style>\n",
       "<table border=\"1\" class=\"dataframe\">\n",
       "  <thead>\n",
       "    <tr style=\"text-align: right;\">\n",
       "      <th></th>\n",
       "      <th>event_id_cnty</th>\n",
       "      <th>event_date_dt</th>\n",
       "      <th>event_type</th>\n",
       "      <th>sub_event_type</th>\n",
       "      <th>country</th>\n",
       "      <th>fatalities</th>\n",
       "      <th>admin1</th>\n",
       "      <th>iso3</th>\n",
       "      <th>iso_admin</th>\n",
       "      <th>sub_event_num</th>\n",
       "    </tr>\n",
       "  </thead>\n",
       "  <tbody>\n",
       "    <tr>\n",
       "      <th>0</th>\n",
       "      <td>IND92138</td>\n",
       "      <td>2021-04-02</td>\n",
       "      <td>Riots</td>\n",
       "      <td>Mob violence</td>\n",
       "      <td>India</td>\n",
       "      <td>0</td>\n",
       "      <td>Assam</td>\n",
       "      <td>IND</td>\n",
       "      <td>IND_Assam</td>\n",
       "      <td>14</td>\n",
       "    </tr>\n",
       "    <tr>\n",
       "      <th>1</th>\n",
       "      <td>YEM63870</td>\n",
       "      <td>2021-04-02</td>\n",
       "      <td>Explosions/Remote violence</td>\n",
       "      <td>Shelling/artillery/missile attack</td>\n",
       "      <td>Yemen</td>\n",
       "      <td>0</td>\n",
       "      <td>Al Hudaydah</td>\n",
       "      <td>YEM</td>\n",
       "      <td>YEM_Al Hudaydah</td>\n",
       "      <td>22</td>\n",
       "    </tr>\n",
       "    <tr>\n",
       "      <th>2</th>\n",
       "      <td>TUN8240</td>\n",
       "      <td>2021-04-02</td>\n",
       "      <td>Protests</td>\n",
       "      <td>Peaceful protest</td>\n",
       "      <td>Tunisia</td>\n",
       "      <td>0</td>\n",
       "      <td>Kasserine</td>\n",
       "      <td>TUN</td>\n",
       "      <td>TUN_Kasserine</td>\n",
       "      <td>18</td>\n",
       "    </tr>\n",
       "    <tr>\n",
       "      <th>3</th>\n",
       "      <td>IND92139</td>\n",
       "      <td>2021-04-02</td>\n",
       "      <td>Protests</td>\n",
       "      <td>Peaceful protest</td>\n",
       "      <td>India</td>\n",
       "      <td>0</td>\n",
       "      <td>West Bengal</td>\n",
       "      <td>IND</td>\n",
       "      <td>IND_West Bengal</td>\n",
       "      <td>18</td>\n",
       "    </tr>\n",
       "    <tr>\n",
       "      <th>4</th>\n",
       "      <td>YEM63871</td>\n",
       "      <td>2021-04-02</td>\n",
       "      <td>Battles</td>\n",
       "      <td>Armed clash</td>\n",
       "      <td>Yemen</td>\n",
       "      <td>10</td>\n",
       "      <td>Al Hudaydah</td>\n",
       "      <td>YEM</td>\n",
       "      <td>YEM_Al Hudaydah</td>\n",
       "      <td>3</td>\n",
       "    </tr>\n",
       "  </tbody>\n",
       "</table>\n",
       "</div>"
      ],
      "text/plain": [
       "  event_id_cnty event_date_dt                  event_type  \\\n",
       "0      IND92138    2021-04-02                       Riots   \n",
       "1      YEM63870    2021-04-02  Explosions/Remote violence   \n",
       "2       TUN8240    2021-04-02                    Protests   \n",
       "3      IND92139    2021-04-02                    Protests   \n",
       "4      YEM63871    2021-04-02                     Battles   \n",
       "\n",
       "                      sub_event_type  country  fatalities       admin1 iso3  \\\n",
       "0                       Mob violence    India           0        Assam  IND   \n",
       "1  Shelling/artillery/missile attack    Yemen           0  Al Hudaydah  YEM   \n",
       "2                   Peaceful protest  Tunisia           0    Kasserine  TUN   \n",
       "3                   Peaceful protest    India           0  West Bengal  IND   \n",
       "4                        Armed clash    Yemen          10  Al Hudaydah  YEM   \n",
       "\n",
       "         iso_admin  sub_event_num  \n",
       "0        IND_Assam             14  \n",
       "1  YEM_Al Hudaydah             22  \n",
       "2    TUN_Kasserine             18  \n",
       "3  IND_West Bengal             18  \n",
       "4  YEM_Al Hudaydah              3  "
      ]
     },
     "execution_count": 5,
     "metadata": {},
     "output_type": "execute_result"
    }
   ],
   "source": [
    "#Defining reduced dataset\n",
    "features = [\"event_id_cnty\", \"event_date_dt\", \"event_type\", \"sub_event_type\", \"country\", \"fatalities\", \"admin1\", 'iso3']\n",
    "conflict = conflict_df[features]\n",
    "conflict = conflict.dropna(axis = 0)\n",
    "conflict[\"iso_admin\"] = conflict.iso3 + '_' + conflict.admin1\n",
    "conflict.head()\n",
    "\n",
    "pop_data = pd.read_csv('E:/ML/Art/WPP2019_TotalPopulationBySex.csv')\n",
    "pop_data = pop_data[['Location', 'Time', 'PopTotal']]\n",
    "\n",
    "\n",
    "le = LabelEncoder()\n",
    "\n",
    "conflict[\"sub_event_num\"] = le.fit_transform(conflict['sub_event_type'])\n",
    "\n",
    "dict_event = {l: i for (i, l) in enumerate(le.classes_)}\n",
    "print(dict_event)\n",
    "\n",
    "conflict.head()"
   ]
  },
  {
   "cell_type": "code",
   "execution_count": 6,
   "id": "c1105449",
   "metadata": {},
   "outputs": [
    {
     "name": "stdout",
     "output_type": "stream",
     "text": [
      "Counter({'2020': 190, '2018': 146, '2019': 146, '2017': 76, '2016': 73, '2015': 61, '2014': 58, '2010': 57, '2011': 57, '2012': 57, '2013': 57, '1997': 48, '1998': 48, '2000': 48, '2003': 48, '2004': 48, '2006': 48, '2009': 48, '2001': 47, '2002': 47, '2005': 47, '2007': 47, '2008': 47, '1999': 46})\n"
     ]
    }
   ],
   "source": [
    "country_total = np.zeros(30)\n",
    "for year in range(1900, 2021):\n",
    "    if year in set(conflict.event_date_dt.dt.year):\n",
    "        conflict_year = conflict[conflict.event_date_dt.dt.year == year]\n",
    "        pop_year = pop_data[pop_data['Time'] == year]\n",
    "        \n",
    "    \n",
    "        list_country = list(set(conflict_year.country))\n",
    "\n",
    "        grouped_year = conflict_year.groupby('country')\n",
    "    \n",
    "\n",
    "        for country in list_country:\n",
    "            temp = grouped_year.get_group(country)\n",
    "            fatal = sum(temp.fatalities)\n",
    "            label = temp.iso3.max() + '_' + str(year)\n",
    "            se_count = dict(Counter(temp.sub_event_num))\n",
    "    \n",
    "            temp_vector_event = np.zeros(25)\n",
    "            for val_num in range(25):\n",
    "                if val_num in se_count.keys():\n",
    "                    temp_vector_event[val_num] = se_count.get(val_num)\n",
    "                else:\n",
    "                    temp_vector_event[val_num] = 0\n",
    "            days_annual = len(set(temp.event_date_dt))\n",
    "    \n",
    "            temp_arr = np.array([country, year, label, days_annual, fatal])\n",
    "    \n",
    "            temp_arr = np.hstack((temp_arr, np.array(temp_vector_event).astype(int)))\n",
    "        \n",
    "            country_total = np.vstack((country_total, temp_arr))\n",
    "    \n",
    "    \n",
    "\n",
    "features = ['Country', 'Year', 'Country Label', 'Days of Protest', 'Fatalities' ]\n",
    "for key in dict_event.keys():\n",
    "    features.append(key)\n",
    "country_total = pd.DataFrame(country_total, columns = features)\n",
    "country_total = country_total.drop(0)\n",
    "country_total = country_total.reset_index(drop = True)\n",
    "\n",
    "print(Counter(country_total.Year))\n"
   ]
  },
  {
   "cell_type": "code",
   "execution_count": 7,
   "id": "8b669209",
   "metadata": {},
   "outputs": [],
   "source": [
    "country_total[['Days of Protest', 'Fatalities',\\\n",
    "       'Abduction/forced disappearance', 'Agreement', 'Air/drone strike',\\\n",
    "       'Armed clash', 'Arrests', 'Attack', 'Change to group/activity',\\\n",
    "       'Chemical weapon', 'Disrupted weapons use',\\\n",
    "       'Excessive force against protesters', 'Government regains territory',\\\n",
    "       'Grenade', 'Headquarters or base established',\\\n",
    "       'Looting/property destruction', 'Mob violence',\\\n",
    "       'Non-state actor overtakes territory',\\\n",
    "       'Non-violent transfer of territory', 'Other', 'Peaceful protest',\\\n",
    "       'Protest with intervention', 'Remote explosive/landmine/IED',\\\n",
    "       'Sexual violence', 'Shelling/artillery/missile attack', 'Suicide bomb',\\\n",
    "       'Violent demonstration']] = country_total[['Days of Protest', 'Fatalities',\\\n",
    "       'Abduction/forced disappearance', 'Agreement', 'Air/drone strike',\\\n",
    "       'Armed clash', 'Arrests', 'Attack', 'Change to group/activity',\\\n",
    "       'Chemical weapon', 'Disrupted weapons use',\\\n",
    "       'Excessive force against protesters', 'Government regains territory',\\\n",
    "       'Grenade', 'Headquarters or base established',\\\n",
    "       'Looting/property destruction', 'Mob violence',\\\n",
    "       'Non-state actor overtakes territory',\\\n",
    "       'Non-violent transfer of territory', 'Other', 'Peaceful protest',\\\n",
    "       'Protest with intervention', 'Remote explosive/landmine/IED',\\\n",
    "       'Sexual violence', 'Shelling/artillery/missile attack', 'Suicide bomb',\\\n",
    "       'Violent demonstration']].apply(pd.to_numeric)"
   ]
  },
  {
   "cell_type": "code",
   "execution_count": 8,
   "id": "6aff2fa9",
   "metadata": {},
   "outputs": [],
   "source": [
    "country_total['Sum_Peace'] = country_total['Agreement'] + country_total['Arrests'] + country_total['Non-violent transfer of territory'] + country_total['Peaceful protest'] + country_total['Protest with intervention']"
   ]
  },
  {
   "cell_type": "code",
   "execution_count": 11,
   "id": "e553f4f3",
   "metadata": {},
   "outputs": [],
   "source": [
    "country_total['Sum_Protests'] = country_total['Abduction/forced disappearance'] + country_total['Agreement'] + country_total['Air/drone strike'] + \\\n",
    "       country_total['Armed clash'] + country_total['Arrests'] + country_total['Attack'] + country_total['Change to group/activity'] +\\\n",
    "       country_total['Chemical weapon'] + country_total['Disrupted weapons use'] +\\\n",
    "       country_total['Excessive force against protesters'] + country_total['Government regains territory'] +\\\n",
    "       country_total['Grenade'] + country_total['Headquarters or base established'] +\\\n",
    "       country_total['Looting/property destruction'] + country_total['Mob violence'] +\\\n",
    "       country_total['Non-state actor overtakes territory'] +\\\n",
    "       country_total['Non-violent transfer of territory'] + country_total['Other'] + country_total['Peaceful protest'] +\\\n",
    "       country_total['Protest with intervention'] + country_total['Remote explosive/landmine/IED'] +\\\n",
    "       country_total['Sexual violence'] + country_total['Shelling/artillery/missile attack'] + country_total['Suicide bomb'] +\\\n",
    "       country_total['Violent demonstration']"
   ]
  },
  {
   "cell_type": "code",
   "execution_count": 12,
   "id": "d016ce59",
   "metadata": {},
   "outputs": [],
   "source": [
    "country_total['Year'] = country_total['Year'].astype('int64')"
   ]
  },
  {
   "cell_type": "code",
   "execution_count": 13,
   "id": "7589ee87",
   "metadata": {},
   "outputs": [],
   "source": [
    "pop_df_address = #Address of World Bank Population CSV\n",
    "pop_data = pd.read_csv(pop_df_address)\n",
    "pop_data = pop_data[['Location', 'PopTotal', 'Time']]"
   ]
  },
  {
   "cell_type": "code",
   "execution_count": 14,
   "id": "76cfb744",
   "metadata": {},
   "outputs": [],
   "source": [
    "country_total = country_total.merge(pop_data, left_on=['Country', 'Year'], right_on=['Location', 'Time'], suffixes=('_left', '_right'))\n",
    "country_total.PopTotal = country_total.PopTotal*1000\n",
    "country_total = country_total.drop('Location', axis = 1)"
   ]
  },
  {
   "cell_type": "code",
   "execution_count": 15,
   "id": "e64d3d60",
   "metadata": {},
   "outputs": [
    {
     "name": "stdout",
     "output_type": "stream",
     "text": [
      "Counter({2020: 162, 2018: 125, 2019: 125, 2017: 66, 2016: 64, 2015: 54, 2011: 51, 2014: 51, 2010: 50, 2012: 50, 2013: 50, 1997: 43, 1998: 43, 2000: 43, 2003: 43, 2004: 43, 2006: 43, 2008: 43, 2009: 43, 2001: 42, 2002: 42, 2005: 42, 2007: 42, 1999: 41})\n",
      "(1401, 34)\n",
      "Index(['Country', 'Year', 'Country Label', 'Days of Protest', 'Fatalities',\n",
      "       'Abduction/forced disappearance', 'Agreement', 'Air/drone strike',\n",
      "       'Armed clash', 'Arrests', 'Attack', 'Change to group/activity',\n",
      "       'Chemical weapon', 'Disrupted weapons use',\n",
      "       'Excessive force against protesters', 'Government regains territory',\n",
      "       'Grenade', 'Headquarters or base established',\n",
      "       'Looting/property destruction', 'Mob violence',\n",
      "       'Non-state actor overtakes territory',\n",
      "       'Non-violent transfer of territory', 'Other', 'Peaceful protest',\n",
      "       'Protest with intervention', 'Remote explosive/landmine/IED',\n",
      "       'Sexual violence', 'Shelling/artillery/missile attack', 'Suicide bomb',\n",
      "       'Violent demonstration', 'Sum_Peace', 'Sum_Protests', 'PopTotal',\n",
      "       'Time'],\n",
      "      dtype='object')\n"
     ]
    }
   ],
   "source": [
    "country_total = country_total.drop_duplicates().reset_index(drop = True)\n",
    "print(Counter(country_total.Year))\n",
    "print(country_total.shape)\n",
    "print(country_total.columns)"
   ]
  },
  {
   "cell_type": "code",
   "execution_count": 16,
   "id": "fb84476e",
   "metadata": {},
   "outputs": [],
   "source": [
    "from scipy.stats import zscore\n",
    "from scipy.special import logit"
   ]
  },
  {
   "cell_type": "code",
   "execution_count": 18,
   "id": "33f48e08",
   "metadata": {},
   "outputs": [],
   "source": [
    "country_total['Fatal Prob'] = (country_total.Fatalities + 1)/(1 + country_total.PopTotal)\n",
    "country_total['Fatal_Logit'] = logit(country_total['Fatal Prob'])\n",
    "\n",
    "country_total['Peace Prob'] = (1 + country_total.Sum_Peace)/(country_total.Sum_Protests + 2)\n",
    "country_total['Peace_Logit'] = logit(country_total['Peace Prob'])\n",
    "\n",
    "country_total['Days Prob'] = (country_total['Days of Protest'])/367\n",
    "country_total['Days_Logit'] = logit(country_total['Days Prob'])"
   ]
  },
  {
   "cell_type": "code",
   "execution_count": 19,
   "id": "a890c4e2",
   "metadata": {},
   "outputs": [],
   "source": [
    "country_total['PeaceZ'] = zscore(country_total.Peace_Logit)\n",
    "country_total['FatalZ'] = zscore(country_total.Fatal_Logit)\n",
    "country_total['DaysZ'] = zscore(country_total.Days_Logit)"
   ]
  },
  {
   "cell_type": "code",
   "execution_count": 20,
   "id": "273e5d43",
   "metadata": {},
   "outputs": [],
   "source": [
    "z_years = country_total[['Country', 'Year', 'Country Label', 'PeaceZ', 'FatalZ', 'DaysZ']]\n",
    "z_years.to_csv('Z_years.csv')"
   ]
  },
  {
   "cell_type": "code",
   "execution_count": 21,
   "id": "fb09aa96",
   "metadata": {},
   "outputs": [
    {
     "data": {
      "text/plain": [
       "(array([ 25.,  46., 108., 243., 387., 292., 190.,  80.,  24.,   6.]),\n",
       " array([-2.94784014, -2.32561988, -1.70339962, -1.08117936, -0.45895909,\n",
       "         0.16326117,  0.78548143,  1.40770169,  2.02992195,  2.65214221,\n",
       "         3.27436247]),\n",
       " <BarContainer object of 10 artists>)"
      ]
     },
     "execution_count": 21,
     "metadata": {},
     "output_type": "execute_result"
    },
    {
     "data": {
      "image/png": "[encoded data removed]",
      "text/plain": [
       "<Figure size 432x288 with 1 Axes>"
      ]
     },
     "metadata": {
      "needs_background": "light"
     },
     "output_type": "display_data"
    }
   ],
   "source": [
    "plt.hist(z_years.PeaceZ)"
   ]
  },
  {
   "cell_type": "code",
   "execution_count": 22,
   "id": "a0c5a361",
   "metadata": {},
   "outputs": [
    {
     "data": {
      "text/plain": [
       "(array([ 10., 100., 298., 375., 261., 203., 100.,  49.,   4.,   1.]),\n",
       " array([-2.6131532 , -1.9552463 , -1.29733939, -0.63943249,  0.01847442,\n",
       "         0.67638133,  1.33428823,  1.99219514,  2.65010204,  3.30800895,\n",
       "         3.96591585]),\n",
       " <BarContainer object of 10 artists>)"
      ]
     },
     "execution_count": 22,
     "metadata": {},
     "output_type": "execute_result"
    },
    {
     "data": {
      "image/png": "[encoded data removed]",
      "text/plain": [
       "<Figure size 432x288 with 1 Axes>"
      ]
     },
     "metadata": {
      "needs_background": "light"
     },
     "output_type": "display_data"
    }
   ],
   "source": [
    "plt.hist(z_years.FatalZ)"
   ]
  },
  {
   "cell_type": "code",
   "execution_count": 23,
   "id": "ecf4ef66",
   "metadata": {},
   "outputs": [
    {
     "data": {
      "text/plain": [
       "(array([192., 207., 226., 214., 229., 127.,  95.,  42.,  22.,  47.]),\n",
       " array([-1.57487633, -1.13658516, -0.69829399, -0.26000283,  0.17828834,\n",
       "         0.61657951,  1.05487067,  1.49316184,  1.93145301,  2.36974417,\n",
       "         2.80803534]),\n",
       " <BarContainer object of 10 artists>)"
      ]
     },
     "execution_count": 23,
     "metadata": {},
     "output_type": "execute_result"
    },
    {
     "data": {
      "image/png": "[encoded data removed]",
      "text/plain": [
       "<Figure size 432x288 with 1 Axes>"
      ]
     },
     "metadata": {
      "needs_background": "light"
     },
     "output_type": "display_data"
    }
   ],
   "source": [
    "plt.hist(z_years.DaysZ)"
   ]
  },
  {
   "cell_type": "code",
   "execution_count": 24,
   "id": "e80fc346",
   "metadata": {},
   "outputs": [],
   "source": [
    "from sklearn.decomposition import PCA"
   ]
  },
  {
   "cell_type": "code",
   "execution_count": 25,
   "id": "66b9c753",
   "metadata": {},
   "outputs": [],
   "source": [
    "pca = PCA(n_components = 2)"
   ]
  },
  {
   "cell_type": "code",
   "execution_count": 26,
   "id": "49fb5720",
   "metadata": {},
   "outputs": [],
   "source": [
    "PCs = pca.fit_transform(z_years[['PeaceZ', 'FatalZ', 'DaysZ']])\n",
    "PC_df1 = pd.DataFrame(PCs, columns = ['PC1', 'PC2'])\n",
    "PC_df = pd.DataFrame(PCs, columns = ['PC1', 'PC2'])"
   ]
  },
  {
   "cell_type": "code",
   "execution_count": 27,
   "id": "0d34e935",
   "metadata": {},
   "outputs": [],
   "source": [
    "PC_df['Country'] = z_years['Country']\n",
    "PC_df['Country Label'] = z_years['Country Label']\n",
    "PC_df['Year'] = z_years['Year']\n",
    "PC_df[['PeaceZ', 'FatalZ', 'DaysZ']] = z_years[['PeaceZ', 'FatalZ', 'DaysZ']]"
   ]
  },
  {
   "cell_type": "code",
   "execution_count": 28,
   "id": "7320f7c9",
   "metadata": {},
   "outputs": [],
   "source": [
    "new_df = PC_df.copy()"
   ]
  },
  {
   "cell_type": "code",
   "execution_count": 29,
   "id": "f67f420d",
   "metadata": {},
   "outputs": [],
   "source": [
    "new_df['Fact1'] = new_df['FatalZ'] - new_df['PeaceZ']\n",
    "new_df['Fact2'] = new_df['DaysZ']"
   ]
  },
  {
   "cell_type": "code",
   "execution_count": 30,
   "id": "4b256dac",
   "metadata": {},
   "outputs": [
    {
     "data": {
      "image/png": "[encoded data removed]",
      "text/plain": [
       "<Figure size 640x480 with 1 Axes>"
      ]
     },
     "metadata": {},
     "output_type": "display_data"
    }
   ],
   "source": [
    "with plt.style.context('classic'):\n",
    "    plt.scatter(new_df['Fact1'], new_df['Fact2'], c = 'k', alpha = 0.3)\n",
    "    plt.title('Scatter plot')\n",
    "    plt.xlabel('Factor1', fontsize=14)\n",
    "    plt.ylabel('Factor2', fontsize=14)\n",
    "    plt.savefig('All.png')"
   ]
  },
  {
   "cell_type": "code",
   "execution_count": null,
   "id": "d77710c0",
   "metadata": {},
   "outputs": [],
   "source": []
  }
 ],
 "metadata": {
  "kernelspec": {
   "display_name": "Python 3",
   "language": "python",
   "name": "python3"
  },
  "language_info": {
   "codemirror_mode": {
    "name": "ipython",
    "version": 3
   },
   "file_extension": ".py",
   "mimetype": "text/x-python",
   "name": "python",
   "nbconvert_exporter": "python",
   "pygments_lexer": "ipython3",
   "version": "3.8.8"
  }
 },
 "nbformat": 4,
 "nbformat_minor": 5
}
